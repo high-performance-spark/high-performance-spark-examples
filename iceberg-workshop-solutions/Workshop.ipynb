{
 "cells": [
  {
   "cell_type": "code",
   "execution_count": 1,
   "id": "34577ad3-822f-4370-bcba-56b9fcec3196",
   "metadata": {},
   "outputs": [
    {
     "data": {
      "text/plain": [
       "\u001b[32mimport \u001b[39m\u001b[36morg.apache.spark.sql._\u001b[39m"
      ]
     },
     "execution_count": 1,
     "metadata": {},
     "output_type": "execute_result"
    }
   ],
   "source": [
    "import org.apache.spark.sql._"
   ]
  },
  {
   "cell_type": "code",
   "execution_count": null,
   "id": "6d3141ec-7779-467a-9f76-2e51030fd1c7",
   "metadata": {},
   "outputs": [],
   "source": [
    "// So now we need to configure Spark to use Iceberg\n",
    "val spark = SparkSession.builder.master(\"local\").conf(\"\", \"\")\n",
    "import spark._"
   ]
  }
 ],
 "metadata": {
  "kernelspec": {
   "display_name": "Scala 2.13 (w/ Spark 3.5 & Iceberg 1.6)",
   "language": "scala",
   "name": "scala2.13"
  },
  "language_info": {
   "codemirror_mode": "text/x-scala",
   "file_extension": ".sc",
   "mimetype": "text/x-scala",
   "name": "scala",
   "nbconvert_exporter": "script",
   "version": "2.13.8"
  }
 },
 "nbformat": 4,
 "nbformat_minor": 5
}
